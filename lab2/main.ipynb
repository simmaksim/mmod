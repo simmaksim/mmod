{
 "cells": [
  {
   "cell_type": "code",
   "execution_count": 14,
   "metadata": {
    "pycharm": {
     "name": "#%%\n"
    }
   },
   "outputs": [],
   "source": [
    "import math\n",
    "\n",
    "import numpy as np\n",
    "import matplotlib.pyplot as plt\n",
    "from scipy import stats\n",
    "from collections import Counter\n",
    "import struct\n",
    "import time\n",
    "\n",
    "\n",
    "def getrandbits(k):\n",
    "    result = 0\n",
    "    for _ in range(k):\n",
    "        result <<= 1\n",
    "        result |= struct.pack('f', time.process_time())[0] & 1\n",
    "    return result\n",
    "\n",
    "\n",
    "A = getrandbits(64)\n",
    "\n",
    "def generate_random(k, m):\n",
    "    global A\n",
    "    A = (k*A) % m\n",
    "    return A / m\n",
    "\n",
    "\n",
    "rand = lambda: generate_random(5**16, 2**35)"
   ]
  },
  {
   "cell_type": "markdown",
   "metadata": {
    "pycharm": {
     "name": "#%% md\n"
    }
   },
   "source": [
    "## Задание 1"
   ]
  },
  {
   "cell_type": "code",
   "execution_count": 15,
   "metadata": {
    "pycharm": {
     "name": "#%%\n"
    }
   },
   "outputs": [],
   "source": [
    "def exponential_numbers(a, size):\n",
    "    numbers = []\n",
    "    for i in range(size):\n",
    "        num = 1\n",
    "        while not num < 1:\n",
    "            num = rand()\n",
    "        numbers.append(num)\n",
    "\n",
    "    array = [((-1) / a) * (math.log(1 - num)) for num in numbers]\n",
    "    return array"
   ]
  },
  {
   "cell_type": "code",
   "execution_count": 16,
   "metadata": {
    "pycharm": {
     "name": "#%%\n"
    }
   },
   "outputs": [],
   "source": [
    "def find_chi(obs, exp, bins=10):\n",
    "    fig, axs = plt.subplots(1, 2, sharey=True, tight_layout=True)\n",
    "    o = axs[0].hist(obs, density=True, bins=bins)\n",
    "    e = axs[1].hist(exp, density=True, bins=o[1])\n",
    "    return len(obs) * sum((a - b) ** 2 / b for (a, b) in zip(o[0], e[0]) if b > 0)"
   ]
  },
  {
   "cell_type": "code",
   "execution_count": null,
   "metadata": {
    "pycharm": {
     "name": "#%%\n"
    },
    "scrolled": true
   },
   "outputs": [],
   "source": [
    "L = float(input(\"L=\"))\n",
    "size = 10 ** 6\n",
    "\n",
    "expected = np.random.exponential(1/L, size)\n",
    "observable = exponential_numbers(L, size)\n",
    "\n",
    "probabilities, intervals, _ = plt.hist(observable, bins=\"auto\", density=True)\n",
    "plt.show()"
   ]
  },
  {
   "cell_type": "code",
   "execution_count": null,
   "metadata": {
    "pycharm": {
     "name": "#%%\n"
    }
   },
   "outputs": [],
   "source": [
    "data = np.column_stack((observable, expected))\n",
    "\n",
    "fig, axs = plt.subplots(1, 1, sharey=True, tight_layout=True)\n",
    "\n",
    "axs.hist(data, bins=np.arange(0, 25))\n",
    "plt.show()"
   ]
  },
  {
   "cell_type": "code",
   "execution_count": 9,
   "metadata": {
    "pycharm": {
     "name": "#%%\n"
    }
   },
   "outputs": [
    {
     "name": "stdout",
     "output_type": "stream",
     "text": [
      "M = 0.0\n",
      "D = 0.0\n"
     ]
    }
   ],
   "source": [
    "x = observable\n",
    "\n",
    "M = sum(x)/len(x)\n",
    "D = sum([(i - M)**2 for i in x])/len(x)\n",
    "\n",
    "print(\"M =\", M)\n",
    "print(\"D =\", D)"
   ]
  },
  {
   "cell_type": "code",
   "execution_count": 10,
   "metadata": {
    "pycharm": {
     "name": "#%%\n"
    }
   },
   "outputs": [
    {
     "data": {
      "text/plain": [
       "(0.0, 0.0)"
      ]
     },
     "execution_count": 10,
     "metadata": {},
     "output_type": "execute_result"
    }
   ],
   "source": [
    "eps = 1.95*np.sqrt(D/len(x))\n",
    "\n",
    "(M-eps, M+eps)"
   ]
  },
  {
   "cell_type": "code",
   "execution_count": 11,
   "metadata": {
    "pycharm": {
     "name": "#%%\n"
    }
   },
   "outputs": [
    {
     "data": {
      "text/plain": [
       "(0.0, 0.0)"
      ]
     },
     "execution_count": 11,
     "metadata": {},
     "output_type": "execute_result"
    }
   ],
   "source": [
    "chi_r = stats.chi2.ppf(0.05, len(x)-1)\n",
    "chi_l = stats.chi2.ppf(0.95, len(x)-1)\n",
    "\n",
    "((len(x)-1)*D/chi_l, (len(x)-1)*D/chi_r)"
   ]
  },
  {
   "cell_type": "code",
   "execution_count": 12,
   "metadata": {
    "pycharm": {
     "name": "#%%\n"
    }
   },
   "outputs": [
    {
     "data": {
      "text/plain": [
       "0.0"
      ]
     },
     "execution_count": 12,
     "metadata": {},
     "output_type": "execute_result"
    },
    {
     "data": {
      "image/png": "[encoded data removed]",
      "text/plain": [
       "<Figure size 432x288 with 2 Axes>"
      ]
     },
     "metadata": {
      "needs_background": "light"
     },
     "output_type": "display_data"
    }
   ],
   "source": [
    "find_chi(observable, expected, 10)"
   ]
  },
  {
   "cell_type": "code",
   "execution_count": 13,
   "metadata": {
    "pycharm": {
     "name": "#%%\n"
    }
   },
   "outputs": [
    {
     "data": {
      "text/plain": [
       "15.50731305586545"
      ]
     },
     "execution_count": 13,
     "metadata": {},
     "output_type": "execute_result"
    }
   ],
   "source": [
    "stats.chi2.ppf(0.95, 10 - 2)"
   ]
  },
  {
   "cell_type": "markdown",
   "metadata": {
    "pycharm": {
     "name": "#%% md\n"
    }
   },
   "source": [
    "## Задание 2"
   ]
  },
  {
   "cell_type": "code",
   "execution_count": 54,
   "metadata": {
    "pycharm": {
     "name": "#%%\n"
    }
   },
   "outputs": [],
   "source": [
    "def discrete_function(p):\n",
    "    return [((1-p)**n) * p for n in range(10**6)]\n",
    "\n",
    "def calc_distribution(probs):\n",
    "    distrib = [0]\n",
    "    for i, p in enumerate(probs):\n",
    "        distrib.append(distrib[i] + p)\n",
    "    distrib[-1] = 1\n",
    "    return distrib\n",
    "\n",
    "def discrete_numbers(probs, n):\n",
    "    distrib = calc_distribution(probs)\n",
    "    numbers = Counter()\n",
    "\n",
    "    for r in (rand() for _ in range(n)):\n",
    "        for i, p in enumerate(distrib):\n",
    "            if r < p:\n",
    "                numbers[i] += 1\n",
    "                break\n",
    "\n",
    "    return [i/size for i in numbers.values()]"
   ]
  },
  {
   "cell_type": "code",
   "execution_count": 55,
   "metadata": {
    "pycharm": {
     "name": "#%%\n"
    }
   },
   "outputs": [
    {
     "name": "stdout",
     "output_type": "stream",
     "text": [
      "[0.2, 0.16000000000000003, 0.12800000000000003, 0.10240000000000003, 0.08192000000000002, 0.06553600000000002, 0.052428800000000025, 0.041943040000000015, 0.033554432000000016, 0.026843545600000015]\n",
      "[0.200442, 0.159406, 0.128446, 0.102237, 0.081526, 0.065808, 0.052577, 0.042043, 0.033588, 0.026667]\n"
     ]
    }
   ],
   "source": [
    "p = float(input(\"p=\"))\n",
    "size = 10 ** 6\n",
    "\n",
    "expected = discrete_function(p)\n",
    "observable = sorted(discrete_numbers(expected, size), reverse=True)\n",
    "\n",
    "expected = expected[:len(observable)]\n",
    "\n",
    "print(expected[:10])\n",
    "print(observable[:10])"
   ]
  },
  {
   "cell_type": "code",
   "execution_count": 56,
   "metadata": {
    "pycharm": {
     "name": "#%%\n"
    }
   },
   "outputs": [
    {
     "data": {
      "image/png": "[encoded data removed]",
      "text/plain": [
       "<Figure size 1280x480 with 1 Axes>"
      ]
     },
     "metadata": {},
     "output_type": "display_data"
    }
   ],
   "source": [
    "plt.figure(figsize=(16, 6), dpi=80)\n",
    "\n",
    "X_axis = np.arange(len(expected))\n",
    "plt.bar(X_axis - 0.2, expected, 0.4, label='expected')\n",
    "plt.bar(X_axis + 0.2, observable, 0.4, label='observable')\n",
    "\n",
    "plt.legend(loc='best')\n",
    "\n",
    "plt.show()"
   ]
  },
  {
   "cell_type": "code",
   "execution_count": null,
   "metadata": {
    "pycharm": {
     "name": "#%%\n"
    }
   },
   "outputs": [],
   "source": [
    "x = observable\n",
    "\n",
    "M = sum((x[n] * n for n in range(len(x))))\n",
    "D = sum([x[n] * (n - M)**2 for n in range(len(x))])\n",
    "\n",
    "print(\"M =\", M, \"q/p =\", (1-p)/p)\n",
    "print(\"D =\", D, \"q/p^2 =\", (1-p)/(p**2))"
   ]
  },
  {
   "cell_type": "code",
   "execution_count": null,
   "metadata": {
    "pycharm": {
     "name": "#%%\n"
    }
   },
   "outputs": [],
   "source": [
    "eps = 1.95*np.sqrt(D/len(x))\n",
    "\n",
    "(M-eps, M+eps)"
   ]
  },
  {
   "cell_type": "code",
   "execution_count": null,
   "metadata": {
    "pycharm": {
     "name": "#%%\n"
    }
   },
   "outputs": [],
   "source": [
    "chi_r = stats.chi2.ppf(0.05, len(x)-1)\n",
    "chi_l = stats.chi2.ppf(0.95, len(x)-1)\n",
    "\n",
    "((len(x)-1)*D/chi_l, (len(x)-1)*D/chi_r)"
   ]
  },
  {
   "cell_type": "code",
   "execution_count": null,
   "metadata": {
    "pycharm": {
     "name": "#%%\n"
    }
   },
   "outputs": [],
   "source": [
    "len(observable) * sum((a - b) ** 2 / b for (a, b) in zip(observable, expected))"
   ]
  },
  {
   "cell_type": "code",
   "execution_count": null,
   "metadata": {},
   "outputs": [],
   "source": []
  }
 ],
 "metadata": {
  "kernelspec": {
   "display_name": "Python 3 (ipykernel)",
   "language": "python",
   "name": "python3"
  },
  "language_info": {
   "codemirror_mode": {
    "name": "ipython",
    "version": 3
   },
   "file_extension": ".py",
   "mimetype": "text/x-python",
   "name": "python",
   "nbconvert_exporter": "python",
   "pygments_lexer": "ipython3",
   "version": "3.9.12"
  },
  "vscode": {
   "interpreter": {
    "hash": "b1e900a67170acf3f7410c561adce95098804b1113419710ff1f2a0f619a72b5"
   }
  }
 },
 "nbformat": 4,
 "nbformat_minor": 2
}
