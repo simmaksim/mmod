{
 "cells": [
  {
   "cell_type": "code",
   "execution_count": 1,
   "id": "071b9869-e124-4b61-9edc-5318776b6221",
   "metadata": {},
   "outputs": [],
   "source": [
    "import scipy.stats as sps\n",
    "import numpy as np\n",
    "import ipywidgets as widgets\n",
    "import matplotlib.pyplot as plt\n",
    "%matplotlib inline\n",
    "from random import randrange\n",
    "import math\n",
    "import scipy\n"
   ]
  },
  {
   "cell_type": "code",
   "execution_count": null,
   "id": "aa0ef244-d4a3-4598-9c91-f3a1e97be263",
   "metadata": {},
   "outputs": [],
   "source": []
  },
  {
   "cell_type": "code",
   "execution_count": null,
   "id": "25053c74-35a6-4c00-902a-98843bd7d85a",
   "metadata": {},
   "outputs": [],
   "source": []
  },
  {
   "cell_type": "code",
   "execution_count": 2,
   "id": "84580411-7389-4ec9-bb4c-d551fae05d63",
   "metadata": {},
   "outputs": [],
   "source": [
    "def show_pdf(pdf,  xmin, xmax, ymax, grid_size, distr_name, **kwargs):\n",
    "    \"\"\"\n",
    "    Рисует график плотности непрерывного распределения\n",
    "    \n",
    "    pdf - плотность\n",
    "    xmin, xmax - границы графика по оси x\n",
    "    ymax - граница графика по оси y\n",
    "    grid_size - размер сетки, по которой рисуется график\n",
    "    distr_name - название распределения\n",
    "    kwargs - параметры плотности\n",
    "    \"\"\"\n",
    "    \n",
    "    grid = np.linspace(xmin, xmax, grid_size)  \n",
    "    plt.figure(figsize=(12, 5))\n",
    "    plt.plot(grid, pdf(grid, **kwargs), lw=5)\n",
    "    plt.grid(ls=':')\n",
    "    plt.xlabel('Значение', fontsize=18)\n",
    "    plt.ylabel('Плотность', fontsize=18)\n",
    "    plt.xlim((xmin, xmax))\n",
    "    plt.ylim((None, ymax))\n",
    "    title = 'Плотность {}'.format(distr_name)\n",
    "    plt.title(title.format(**kwargs), fontsize=20)\n",
    "    plt.show()\n",
    "    "
   ]
  },
  {
   "cell_type": "code",
   "execution_count": null,
   "id": "cc1dc355-543c-4435-95f2-504ab9982a19",
   "metadata": {},
   "outputs": [],
   "source": []
  },
  {
   "cell_type": "code",
   "execution_count": 3,
   "id": "0f494270-de72-4771-9d65-1dc55c7898eb",
   "metadata": {},
   "outputs": [
    {
     "data": {
      "text/plain": [
       "array([4.07049586])"
      ]
     },
     "execution_count": 3,
     "metadata": {},
     "output_type": "execute_result"
    }
   ],
   "source": [
    "res = np.random.uniform(0, 5, 1000000)\n",
    " \n",
    "# посмотрим на первые десять значений\n",
    "res[:1]"
   ]
  },
  {
   "cell_type": "code",
   "execution_count": 4,
   "id": "cf71137f-723d-482e-879a-3f64796b1d88",
   "metadata": {},
   "outputs": [
    {
     "data": {
      "image/png": "[encoded data removed]",
      "text/plain": [
       "<Figure size 432x288 with 1 Axes>"
      ]
     },
     "metadata": {
      "needs_background": "light"
     },
     "output_type": "display_data"
    }
   ],
   "source": [
    "plt.hist(res[:10000])\n",
    "plt.show()"
   ]
  },
  {
   "cell_type": "code",
   "execution_count": 5,
   "id": "e18b8e5b-8d9b-4b66-8dae-957d506122cc",
   "metadata": {},
   "outputs": [],
   "source": [
    "import random #метод обратных функций\n",
    "def random_values_generator(left, right, attmp): \n",
    "    res = []\n",
    "    for i in range(1, attmp):\n",
    "        value = (right - left) * random.random() + left\n",
    "        res.append(value)\n",
    "    return res"
   ]
  },
  {
   "cell_type": "code",
   "execution_count": 6,
   "id": "69b4485d-3a6e-4e03-9378-238bc822a80c",
   "metadata": {},
   "outputs": [
    {
     "data": {
      "image/png": "[encoded data removed]",
      "text/plain": [
       "<Figure size 432x288 with 1 Axes>"
      ]
     },
     "metadata": {
      "needs_background": "light"
     },
     "output_type": "display_data"
    }
   ],
   "source": [
    "left = 0 \n",
    "right = 5\n",
    "attmp = 300000\n",
    "\n",
    "res = random_values_generator(left, right, attmp)\n",
    "plt.hist(res)\n",
    "plt.show()"
   ]
  },
  {
   "cell_type": "code",
   "execution_count": 7,
   "id": "918ce42a-d25a-40f1-8076-30c1ee7cc282",
   "metadata": {},
   "outputs": [
    {
     "data": {
      "image/png": "[encoded data removed]",
      "text/plain": [
       "<Figure size 864x360 with 1 Axes>"
      ]
     },
     "metadata": {
      "needs_background": "light"
     },
     "output_type": "display_data"
    }
   ],
   "source": [
    "show_pdf(\n",
    "    pdf=sps.uniform.pdf, xmin=left - 5, xmax=right + 5, ymax=1, grid_size=10000, \n",
    "    distr_name=r'$U(0, 5)$', loc=left, scale=right\n",
    ")"
   ]
  },
  {
   "cell_type": "code",
   "execution_count": 8,
   "id": "a0c251b7-f34e-425f-ae6d-4b1df1453d4e",
   "metadata": {},
   "outputs": [],
   "source": [
    "M = (left + right) / 2 # мат ожидание\n"
   ]
  },
  {
   "cell_type": "code",
   "execution_count": 9,
   "id": "d1690759-23b3-435b-9a61-cb9b3b4ac582",
   "metadata": {},
   "outputs": [],
   "source": [
    "D = (right - left) * (right - left) / 12 # дисперсия\n"
   ]
  },
  {
   "cell_type": "code",
   "execution_count": 10,
   "id": "7695953f-fdf0-4d9b-bb9a-c59ae83fc94f",
   "metadata": {},
   "outputs": [
    {
     "name": "stdout",
     "output_type": "stream",
     "text": [
      "2.5 2.0833333333333335 1.4433756729740645\n"
     ]
    }
   ],
   "source": [
    "import math\n",
    "SC = (right - left) / (2 * math.sqrt(3)) \n",
    "print(M, D, SC)"
   ]
  },
  {
   "cell_type": "code",
   "execution_count": 11,
   "id": "5c0f9981-ef10-45a2-a7ad-cbde60ac3383",
   "metadata": {},
   "outputs": [
    {
     "name": "stdout",
     "output_type": "stream",
     "text": [
      "2.4967279642093367 2.093823643254064 1.447005059857796\n"
     ]
    }
   ],
   "source": [
    "m = 0.0 #несмещенная оценка матожидания \n",
    "d = 0.0 # смещенная оценка дисперсии\n",
    "sc = 0\n",
    "for i in res:\n",
    "    m = m + i\n",
    "m = m / attmp  \n",
    "\n",
    "for i in res:\n",
    "    d = d + math.pow((i - m), 2)\n",
    "d = d / attmp\n",
    "\n",
    "sc = math.sqrt(d)\n",
    "\n",
    "print(m, d, sc)\n"
   ]
  },
  {
   "cell_type": "code",
   "execution_count": 12,
   "id": "d0475ba1-b8e6-48f9-8953-dd5ab733a1d1",
   "metadata": {},
   "outputs": [
    {
     "name": "stdout",
     "output_type": "stream",
     "text": [
      "-0.009558318273610311 5.003014246692284\n"
     ]
    }
   ],
   "source": [
    "# точеные оценки right, left\n",
    "a1 = m - math.sqrt(3)*sc\n",
    "a2 = m + math.sqrt(3)*sc\n",
    "print(a1, a2)\n"
   ]
  },
  {
   "cell_type": "code",
   "execution_count": 13,
   "id": "41af5ca7-1527-44cd-b508-129bdd70a44f",
   "metadata": {},
   "outputs": [
    {
     "name": "stdout",
     "output_type": "stream",
     "text": [
      "4.999982580566619, 5.0000316546194625\n"
     ]
    }
   ],
   "source": [
    "# доверительный интервал right\n",
    "mx=res[0]\n",
    "for i in res:\n",
    "    if i > mx: \n",
    "        mx = i\n",
    "\n",
    "y = 0.90\n",
    "e1 = (1 - y) / 2\n",
    "e2 = e1\n",
    "\n",
    "print('%s, %s'%(mx / (math.pow((1 - e2),1 / attmp)), mx / (math.pow(e1, 1/attmp)  ) ))"
   ]
  },
  {
   "cell_type": "code",
   "execution_count": 14,
   "id": "8afbec5c-3d7a-4aef-ba73-143c55d84c59",
   "metadata": {},
   "outputs": [
    {
     "name": "stdout",
     "output_type": "stream",
     "text": [
      "0.19949835878471797\n"
     ]
    }
   ],
   "source": [
    "a = 0.95 #уровень значимости\n",
    "k = 9 # кол-во степеней свободы\n",
    "#найдем предполагаемую плотность\n",
    "f = 1 / (a2 - a1)\n",
    "print(f)\n",
    "\n",
    "\n",
    "\n",
    "    \n",
    "\n"
   ]
  },
  {
   "cell_type": "code",
   "execution_count": 15,
   "id": "6efa8e39-6fd4-44d9-a8e8-c7288902d915",
   "metadata": {},
   "outputs": [],
   "source": [
    "from scipy import stats\n",
    "def chiSquareValue(self, alpha, freedom):\n",
    "    return stats.chi2.ppf(alpha, freedom)\n"
   ]
  },
  {
   "cell_type": "code",
   "execution_count": 16,
   "id": "357e2c3d-16cf-4c62-9cbd-130c5a4b4ff3",
   "metadata": {},
   "outputs": [
    {
     "name": "stdout",
     "output_type": "stream",
     "text": [
      "301272.227785623\n"
     ]
    }
   ],
   "source": [
    "print(stats.chi2.ppf(0.95, attmp - 3))"
   ]
  },
  {
   "cell_type": "code",
   "execution_count": null,
   "id": "4b8c0acb-42d2-41c5-99b8-7a24c8c4393e",
   "metadata": {},
   "outputs": [],
   "source": []
  },
  {
   "cell_type": "code",
   "execution_count": 17,
   "id": "8a82fa87-281f-441a-85ad-f651ab4e50d6",
   "metadata": {},
   "outputs": [],
   "source": [
    "res.sort()"
   ]
  },
  {
   "cell_type": "code",
   "execution_count": 18,
   "id": "4f18841c-f2e9-47f4-8837-e151e6e557ff",
   "metadata": {
    "scrolled": true
   },
   "outputs": [
    {
     "name": "stdout",
     "output_type": "stream",
     "text": [
      "43313.69882483941 0.9974866744508074\n",
      "True\n"
     ]
    }
   ],
   "source": [
    "# прооверка гипотезы (нахождение хи-квадрат эмпирического и теор)\n",
    "xhi = 0\n",
    "sm = 0\n",
    "for i, val in enumerate(res):\n",
    "    if i + 1 >= len(res): break\n",
    "    n_i = attmp * f * (res[i + 1] - res[i])\n",
    "    sm += n_i\n",
    "    xhi = xhi + (n_i - round(n_i)) * (n_i - round(n_i)) / n_i\n",
    "print(xhi, sm/attmp)\n",
    "print(xhi < stats.chi2.ppf(0.95, attmp - 3))"
   ]
  },
  {
   "cell_type": "code",
   "execution_count": 30,
   "id": "416b8f07-702c-4b3d-9e73-ccee93b7cf0f",
   "metadata": {},
   "outputs": [
    {
     "name": "stdout",
     "output_type": "stream",
     "text": [
      "[0, 1, 2, 3, 4, 5, 6, 7, 8, 9, 10, 11, 12, 13, 14, 15, 16, 17, 18, 19, 20, 21, 22, 23, 24, 25, 26, 27, 28, 29, 30, 31, 32, 33, 34, 35, 36, 37, 38, 39, 40, 41, 42, 43, 44, 45, 46, 47, 48, 49, 50, 51, 52, 53, 54, 55, 56, 57, 58, 59, 60, 61, 62, 63, 64, 65, 66, 67, 68, 69, 70, 71, 72, 73, 74, 75, 76, 77, 78, 79, 80, 81, 82, 83, 84, 85, 86, 87, 88, 89, 90, 91, 92, 93, 94, 95, 96, 97, 98, 99, 100]\n"
     ]
    },
    {
     "data": {
      "image/png": "[encoded data removed]",
      "text/plain": [
       "<Figure size 432x288 with 1 Axes>"
      ]
     },
     "metadata": {
      "needs_background": "light"
     },
     "output_type": "display_data"
    }
   ],
   "source": [
    "n = 100\n",
    "p = 0.4\n",
    "def factorial(n):\n",
    "    x = 1\n",
    "    for i in range(1, n+1):\n",
    "        x *= i\n",
    "    return x\n",
    "\n",
    "def combination(n, k):\n",
    "    return factorial(n)/(factorial(k)*factorial(n-k))\n",
    "\n",
    "def binompmf(k,n,p):\n",
    "    return combination(n,k)*(p**k)*((1-p)**(n-k))\n",
    "\n",
    "r = list(range(n + 1))\n",
    "dist = [binompmf(k, n, p) for k in r]\n",
    "import matplotlib.pyplot as plt\n",
    "\n",
    "print(r)\n",
    "plt.bar(r, dist)\n",
    "plt.show()"
   ]
  },
  {
   "cell_type": "code",
   "execution_count": 20,
   "id": "ea1e3ecd-6f8b-41b8-a13c-c9e4a80538ab",
   "metadata": {
    "scrolled": true
   },
   "outputs": [
    {
     "name": "stdout",
     "output_type": "stream",
     "text": [
      "[6, 5, 6, 7, 9, 5, 8, 5, 7, 2, 6, 4, 4, 6, 8, 4, 8, 10, 3, 6, 6, 4, 7, 7, 5, 6, 5, 7, 5, 7, 4, 4, 6, 4, 7, 8, 4, 4, 5, 9, 5, 7, 8, 9, 5, 7, 3, 7, 4, 2, 6, 3, 4, 9, 6, 3, 5, 8, 9, 4, 1, 4, 5, 6, 4, 9, 7, 8, 5, 7, 5, 5, 5, 6, 5, 8, 3, 7, 5, 4, 6, 5, 4, 7, 8, 5, 6, 5, 3, 7, 3, 8, 8, 7, 4, 6, 9, 7, 6, 7, 3, 9, 3, 4, 3, 5, 3, 5, 3, 6, 3, 3, 4, 5, 8, 4, 6, 5, 4, 8, 7, 5, 5, 4, 3, 4, 6, 6, 5, 4, 8, 4, 8, 5, 1, 6, 5, 6, 5, 5, 6, 6, 6, 5, 6, 4, 7, 8, 4, 5, 7, 6, 5, 6, 5, 7, 6, 5, 5, 2, 6, 4, 4, 5, 5, 3, 8, 5, 7, 7, 3, 8, 5, 4, 5, 6, 8, 2, 6, 5, 4, 2, 5, 6, 7, 5, 6, 7, 8, 9, 7, 5, 5, 7, 5, 7, 4, 2, 6, 6, 11, 8, 7, 6, 9, 6, 7, 4, 4, 6, 8, 7, 6, 4, 3, 6, 5, 8, 10, 7, 5, 4, 8, 2, 6, 7, 7, 6, 4, 6, 7, 3, 3, 5, 5, 5, 5, 5, 4, 8, 5, 5, 7, 7, 5, 8, 1, 7, 3, 6, 6, 5, 4, 5, 6, 7, 5, 7, 5, 8, 5, 8, 3, 3, 4, 8, 1, 6, 3, 8, 5, 7, 7, 10, 9, 3, 3, 3, 5, 6, 6, 6, 4, 5, 8, 8, 5, 6, 9, 6, 2, 4, 6, 2, 7, 5, 4, 4, 2, 5, 2, 5, 5, 5, 8, 5, 5, 5, 5, 2, 8, 6, 2, 7, 6, 3, 6, 4, 6, 6, 5, 7, 6, 7, 9, 3, 3, 6, 8, 7, 4, 6, 8, 6, 8, 2, 7, 6, 3, 4, 6, 5, 7, 7, 5, 5, 4, 6, 5, 8, 6, 4, 5, 5, 6, 6, 3, 5, 7, 4, 2, 7, 5, 2, 4, 10, 5, 7, 5, 8, 4, 2, 5, 3, 3, 4, 6, 6, 5, 6, 1, 3, 4, 4, 2, 7, 4, 6, 5, 5, 5, 5, 4, 9, 2, 4, 4, 6, 5, 5, 7, 4, 5, 5, 2, 5, 5, 8, 7, 6, 3, 5, 3, 4, 9, 3, 6, 7, 3, 6, 4, 4, 3, 6, 2, 3, 7, 6, 6, 3, 8, 7, 4, 5, 9, 4, 7, 3, 3, 5, 8, 10, 4, 8, 5, 8, 7, 9, 4, 4, 6, 5, 4, 6, 6, 7, 8, 6, 4, 4, 3, 7, 4, 5, 4, 2, 6, 2, 6, 5, 4, 6, 3, 5, 6, 11, 7, 5, 2, 7, 6, 6, 9, 4, 5, 6, 3, 5, 6, 8, 4, 4, 13, 6, 7, 4, 4, 5, 8, 9, 6, 8, 3, 4, 3, 5, 7, 5, 8, 7, 4, 2, 5, 6, 5, 5, 7, 5, 10, 7, 2, 6, 5, 6, 3, 4, 6, 7, 3, 2, 3, 4, 2, 3, 5, 4, 4, 5, 6, 6, 8, 8, 4, 4, 4, 8, 6, 5, 3, 7, 4, 9, 5, 4, 8, 7, 7, 8, 2, 2, 6, 6, 7, 7, 4, 3, 8, 7, 9, 6, 5, 5, 5, 7, 6, 5, 5, 2, 7, 7, 3, 5, 6, 7, 5, 6, 7, 4, 4, 6, 5, 6, 4, 9, 9, 4, 9, 6, 1, 3, 6, 7, 4, 5, 6, 2, 7, 3, 5, 7, 4, 8, 6, 3, 5, 4, 7, 8, 8, 4, 4, 8, 5, 3, 7, 6, 10, 3, 4, 5, 9, 6, 4, 6, 7, 6, 1, 3, 5, 2, 3, 6, 3, 4, 10, 6, 6, 5, 9, 4, 6, 4, 6, 7, 8, 9, 4, 9, 2, 5, 3, 8, 5, 3, 4, 6, 10, 6, 6, 2, 5, 11, 9, 2, 6, 6, 7, 3, 4, 6, 1, 8, 8, 3, 6, 6, 8, 3, 6, 5, 6, 7, 5, 7, 6, 7, 8, 3, 8, 4, 2, 3, 6, 4, 5, 9, 4, 9, 5, 5, 4, 5, 6, 5, 7, 4, 5, 4, 5, 8, 4, 8, 2, 3, 10, 5, 4, 7, 4, 5, 7, 5, 5, 6, 6, 7, 3, 10, 7, 3, 5, 4, 4, 6, 3, 5, 4, 8, 5, 5, 3, 3, 7, 10, 6, 7, 5, 5, 4, 6, 5, 7, 5, 9, 9, 7, 2, 2, 9, 5, 7, 7, 6, 6, 7, 4, 4, 5, 6, 3, 8, 4, 5, 7, 4, 7, 6, 3, 6, 4, 4, 2, 5, 6, 5, 6, 4, 6, 5, 4, 5, 4, 7, 7, 7, 5, 6, 8, 4, 6, 6, 5, 10, 8, 5, 3, 5, 6, 5, 7, 5, 8, 8, 4, 4, 5, 6, 4, 3, 9, 5, 6, 4, 7, 5, 6, 4, 8, 8, 4, 5, 2, 5, 4, 6, 5, 4, 5, 2, 6, 8, 3, 7, 5, 4, 5, 8, 4, 6, 7, 3, 7, 3, 5, 8, 4, 9, 5, 8, 4, 5, 4, 9, 7, 5, 4, 8, 2, 4, 6, 4, 2, 4, 4, 6, 12, 5, 9, 5, 5, 7, 5, 4, 8, 7, 4, 4, 4, 5, 8, 4, 3, 5, 7, 9, 5, 6, 3, 8, 6, 7, 5, 4, 4, 7, 3, 3, 5, 5, 3, 8, 5, 6, 5, 5, 5, 5, 2, 7, 6, 4, 7, 6, 7, 3, 6, 5, 3, 3, 6, 5, 8, 5, 7, 3, 7, 3, 7, 7, 4, 5, 3, 5, 5, 7, 5, 6, 6, 4, 5, 5, 6, 2, 7, 6, 4, 4, 5, 5, 4, 4, 5, 4, 7, 5, 6, 7, 7, 2, 7, 5, 3, 6, 4, 6, 6, 3, 7, 10, 7, 8, 7, 2, 5, 8, 8, 8, 3, 2, 2]\n"
     ]
    },
    {
     "name": "stderr",
     "output_type": "stream",
     "text": [
      "C:\\Users\\Dell\\anaconda3\\lib\\site-packages\\seaborn\\distributions.py:2619: FutureWarning: `distplot` is a deprecated function and will be removed in a future version. Please adapt your code to use either `displot` (a figure-level function with similar flexibility) or `histplot` (an axes-level function for histograms).\n",
      "  warnings.warn(msg, FutureWarning)\n"
     ]
    },
    {
     "data": {
      "text/plain": [
       "Text(0, 0.5, 'Frequency')"
      ]
     },
     "execution_count": 20,
     "metadata": {},
     "output_type": "execute_result"
    },
    {
     "data": {
      "image/png": "[encoded data removed]",
      "text/plain": [
       "<Figure size 1008x504 with 1 Axes>"
      ]
     },
     "metadata": {
      "needs_background": "light"
     },
     "output_type": "display_data"
    }
   ],
   "source": [
    "# Import libraries\n",
    "import numpy as np\n",
    "import matplotlib.pyplot as plt\n",
    "import seaborn as sns\n",
    "# Input variables\n",
    "# Number of trials\n",
    "trials = 1000\n",
    "# Number of independent experiments in each trial\n",
    "n = 18\n",
    "# Probability of success for each experiment\n",
    "p = 0.3\n",
    "# Function that runs our coin toss trials\n",
    "# heads is a list of the number of successes from each trial of n experiments\n",
    "def run_binom(trials, n, p):\n",
    "    heads = []\n",
    "    for i in range(trials):\n",
    "        tosses = [np.random.random() for i in range(n)]\n",
    "        heads.append(len([i for i in tosses if i<=p]))\n",
    "        # print(tosses)\n",
    "    return heads\n",
    "# Run the function\n",
    "heads = run_binom(trials, n, p)\n",
    "# Plot the results as a histogram\n",
    "fig, ax = plt.subplots(figsize=(14,7))\n",
    "print(heads)\n",
    "ax = sns.distplot(heads, bins=11, label='simulation results')\n",
    "ax.set_xlabel(\"Number of Heads\",fontsize=16)\n",
    "ax.set_ylabel(\"Frequency\",fontsize=16)\n",
    "    "
   ]
  },
  {
   "cell_type": "code",
   "execution_count": 21,
   "id": "cfc276c9-c870-4ed4-8b7d-abaf566847b5",
   "metadata": {},
   "outputs": [
    {
     "name": "stdout",
     "output_type": "stream",
     "text": [
      "5.3999999999999995 3.7799999999999994\n"
     ]
    }
   ],
   "source": [
    "# Дисперс8ия и мат ожидание (теоретические)\n",
    "D_binom = n*p*(1-p)\n",
    "M_binom = n*p\n",
    "print(M_binom, D_binom)"
   ]
  },
  {
   "cell_type": "code",
   "execution_count": 22,
   "id": "979b87a0-3c9a-4995-aba4-62d53e92ca7d",
   "metadata": {},
   "outputs": [
    {
     "name": "stdout",
     "output_type": "stream",
     "text": [
      "5.434 3.6913353353353435\n",
      "Доверительный интервал для A = 6  p =  0.95 :\n",
      "( 0.15144939491223208 ,  0.1985506050877679 )\n",
      "0.175\n"
     ]
    }
   ],
   "source": [
    "# точечные оценки\n",
    "m_binom = 0\n",
    "d_binom = 0\n",
    "for i in range(0, len(heads)):\n",
    "    m_binom += heads[i]\n",
    "m_binom /= trials\n",
    "\n",
    "for i in range(0, len(heads)):\n",
    "    d_binom += math.pow((heads[i] - m_binom), 2)\n",
    "d_binom /= (trials - 1)\n",
    "\n",
    "print(m_binom, d_binom)\n",
    "\n",
    "def count_happened(A):\n",
    "    m = 0\n",
    "    for i in range(0, len(heads)):\n",
    "        if heads[i] == A: m += 1 \n",
    "    return m \n",
    "\n",
    "#интервальная оценка параметра A\n",
    "A = 6\n",
    "\n",
    "p = 0.95\n",
    "t = 1.96\n",
    " \n",
    "W = count_happened(A) / trials\n",
    "\n",
    "delta = t * math.pow(((W * (1 - W)) / trials), 1/2)\n",
    "\n",
    "print('Доверительный интервал для A =', A, ' p = ', p, ':')\n",
    "print('(', W - delta, ', ', W + delta, ')')\n",
    "print(W)\n",
    "\n"
   ]
  },
  {
   "cell_type": "code",
   "execution_count": 24,
   "id": "db2fece8-b4aa-4e5d-abc0-be52ce0ff47a",
   "metadata": {},
   "outputs": [
    {
     "name": "stdout",
     "output_type": "stream",
     "text": [
      "0.008045780869859966\n",
      "True\n"
     ]
    }
   ],
   "source": [
    "prob = 0.3\n",
    "\n",
    "xhi = 0\n",
    "for i in range(0, n):\n",
    "    n_i = count_happened(i) / trials\n",
    "    if n_i!=0: xhi = xhi + (n_i - binompmf(i,n,prob)) * (n_i - binompmf(i,n,prob)) / n_i\n",
    "print(xhi)\n",
    "print(xhi < stats.chi2.ppf(0.95, n - 3))"
   ]
  },
  {
   "cell_type": "code",
   "execution_count": null,
   "id": "b117e87e-cdc5-44ab-9753-91941a5eea46",
   "metadata": {},
   "outputs": [],
   "source": []
  },
  {
   "cell_type": "code",
   "execution_count": null,
   "id": "6b7c6c76",
   "metadata": {},
   "outputs": [],
   "source": []
  }
 ],
 "metadata": {
  "kernelspec": {
   "display_name": "Python 3 (ipykernel)",
   "language": "python",
   "name": "python3"
  },
  "language_info": {
   "codemirror_mode": {
    "name": "ipython",
    "version": 3
   },
   "file_extension": ".py",
   "mimetype": "text/x-python",
   "name": "python",
   "nbconvert_exporter": "python",
   "pygments_lexer": "ipython3",
   "version": "3.9.12"
  }
 },
 "nbformat": 4,
 "nbformat_minor": 5
}
