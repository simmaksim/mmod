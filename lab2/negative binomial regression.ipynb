{
 "cells": [
  {
   "cell_type": "code",
   "execution_count": 10,
   "id": "6b638c73",
   "metadata": {},
   "outputs": [],
   "source": [
    "import matplotlib.pyplot as plt\n",
    "import numpy as np\n",
    "import pandas as pd\n",
    "\n",
    "from scipy.stats import nbinom\n"
   ]
  },
  {
   "cell_type": "code",
   "execution_count": 11,
   "id": "ee0b4e35",
   "metadata": {},
   "outputs": [
    {
     "name": "stdout",
     "output_type": "stream",
     "text": [
      "Введите коэфициент к3\n",
      "Введите вероятность0.5\n"
     ]
    }
   ],
   "source": [
    "si = 30\n",
    "y = np.arange(0, si)\n",
    "k = int(input(\"Введите коэфициент к\"))\n",
    "p1 = float(input(\"Введите вероятность\"))\n",
    "p2 = 0.3\n"
   ]
  },
  {
   "cell_type": "code",
   "execution_count": 12,
   "id": "2ed7583f",
   "metadata": {},
   "outputs": [
    {
     "data": {
      "image/png": "[encoded data removed]",
      "text/plain": [
       "<Figure size 864x288 with 2 Axes>"
      ]
     },
     "metadata": {
      "needs_background": "light"
     },
     "output_type": "display_data"
    }
   ],
   "source": [
    "fig, ax = plt.subplots(1, 2, figsize=(12, 4), sharey=True)\n",
    "\n",
    "ax[0].bar(y, nbinom.pmf(y, k, p1))\n",
    "ax[0].set_xticks(np.linspace(0, si, num=11))\n",
    "ax[0].set_title(f\"k = {k}, p = {p1}\")\n",
    "\n",
    "ax[1].bar(y, nbinom.pmf(y, k, p2))\n",
    "ax[1].set_xticks(np.linspace(0, si, num=11))\n",
    "ax[1].set_title(f\"k = {k}, p = {p2}\")\n",
    "\n",
    "fig.suptitle(\"Y = Number of failures until k successes\", fontsize=16);"
   ]
  },
  {
   "cell_type": "code",
   "execution_count": 13,
   "id": "f35dd6f6",
   "metadata": {},
   "outputs": [
    {
     "name": "stdout",
     "output_type": "stream",
     "text": [
      "0.12499999999999997\n",
      "0.15624999999999992\n"
     ]
    }
   ],
   "source": [
    "print(nbinom.pmf(y, k, p1)[0])\n",
    "print(nbinom.pmf(y, k, p1)[3])"
   ]
  },
  {
   "cell_type": "code",
   "execution_count": 14,
   "id": "1b89f585",
   "metadata": {},
   "outputs": [
    {
     "name": "stdout",
     "output_type": "stream",
     "text": [
      "3.0 6.0\n"
     ]
    }
   ],
   "source": [
    "import math\n",
    "M = (k*(1-p1))/p1\n",
    "D = (k*(1-p1))/math.pow(p1, 2)\n",
    "print(M, D)"
   ]
  },
  {
   "cell_type": "code",
   "execution_count": 15,
   "id": "5bd0e00e",
   "metadata": {},
   "outputs": [
    {
     "data": {
      "text/plain": [
       "(2.2254033307585166, 3.7745966692414834)"
      ]
     },
     "execution_count": 15,
     "metadata": {},
     "output_type": "execute_result"
    }
   ],
   "source": [
    "#интервальая оценка матожидания\n",
    "eps = np.sqrt(3)*np.sqrt(D/len(y))\n",
    "\n",
    "(M-eps, M+eps)"
   ]
  },
  {
   "cell_type": "code",
   "execution_count": 16,
   "id": "0981f5f4",
   "metadata": {},
   "outputs": [
    {
     "data": {
      "text/plain": [
       "(4.451554450077437, 8.802218598014969)"
      ]
     },
     "execution_count": 16,
     "metadata": {},
     "output_type": "execute_result"
    }
   ],
   "source": [
    "#интервальная оценка дисперсии\n",
    "from scipy import stats\n",
    "chi_r = stats.chi2.ppf(0.1, len(y)-1)\n",
    "chi_l = stats.chi2.ppf(0.9, len(y)-1)\n",
    "\n",
    "((len(y)-1)*D/chi_l, (len(y)-1)*D/chi_r)"
   ]
  },
  {
   "cell_type": "code",
   "execution_count": 8,
   "id": "235fb54d",
   "metadata": {},
   "outputs": [
    {
     "name": "stdout",
     "output_type": "stream",
     "text": [
      "3.0032\n",
      "5.993469760000113\n"
     ]
    }
   ],
   "source": [
    "#точечные оценки мат ожидания и дисперсии\n",
    "import math\n",
    "import numpy as np\n",
    "import scipy.stats as sct\n",
    "\n",
    "def truncated_Nbinom(n, p, max_value, size):\n",
    "    temp_size = size\n",
    "    while True:\n",
    "        temp_size *= 2\n",
    "        temp = sct.nbinom.rvs(n, p, size = temp_size)\n",
    "        truncated = temp[temp <= max_value]\n",
    "        if len(truncated) >= size:\n",
    "            return truncated[: size]\n",
    "\n",
    "m =0\n",
    "input_1 = truncated_Nbinom(k, p1, si, 100000).tolist()\n",
    "for item in input_1:\n",
    "    m += item\n",
    "m /=100000\n",
    "\n",
    "d = 0\n",
    "for item in input_1:\n",
    "    d += math.pow((item - m), 2)\n",
    "d/=100000\n",
    "print(m)\n",
    "print(d)"
   ]
  },
  {
   "cell_type": "code",
   "execution_count": 9,
   "id": "f9598baf",
   "metadata": {},
   "outputs": [
    {
     "name": "stdout",
     "output_type": "stream",
     "text": [
      "0.00033890027082319937\n",
      "True\n"
     ]
    }
   ],
   "source": [
    "arr = [0]*si\n",
    "for item in input_1:\n",
    "    if item < len(arr):\n",
    "        arr[item] += 1\n",
    "for i in range(0, len(arr)):\n",
    "    arr[i]/=100000\n",
    "\n",
    "schet = 0\n",
    "#print(arr)\n",
    "y = np.arange(0, si)\n",
    "theor = sct.nbinom.pmf(y, k, p1)\n",
    "#print()\n",
    "for i in range(0 , si):\n",
    "    schet += math.pow((arr[i]-theor[i]), 2)/theor[i]\n",
    "print(schet)\n",
    "print(schet < sct.chi2.ppf(0.9, si - 3))"
   ]
  },
  {
   "cell_type": "code",
   "execution_count": null,
   "id": "59413202",
   "metadata": {},
   "outputs": [],
   "source": []
  }
 ],
 "metadata": {
  "kernelspec": {
   "display_name": "Python 3 (ipykernel)",
   "language": "python",
   "name": "python3"
  },
  "language_info": {
   "codemirror_mode": {
    "name": "ipython",
    "version": 3
   },
   "file_extension": ".py",
   "mimetype": "text/x-python",
   "name": "python",
   "nbconvert_exporter": "python",
   "pygments_lexer": "ipython3",
   "version": "3.9.12"
  }
 },
 "nbformat": 4,
 "nbformat_minor": 5
}
