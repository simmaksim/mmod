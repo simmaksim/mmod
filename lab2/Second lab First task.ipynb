{
 "cells": [
  {
   "cell_type": "code",
   "execution_count": 20,
   "id": "071b9869-e124-4b61-9edc-5318776b6221",
   "metadata": {},
   "outputs": [],
   "source": [
    "import scipy.stats as sps\n",
    "import numpy as np\n",
    "import ipywidgets as widgets\n",
    "import matplotlib.pyplot as plt\n",
    "%matplotlib inline\n",
    "from random import randrange\n",
    "import math\n",
    "import scipy\n"
   ]
  },
  {
   "cell_type": "code",
   "execution_count": 21,
   "id": "84580411-7389-4ec9-bb4c-d551fae05d63",
   "metadata": {},
   "outputs": [],
   "source": [
    "def draw_pl(pl,  xmin, xmax, ymax, grid_size, distr_name, **kwargs):\n",
    "       \n",
    "    grid = np.linspace(xmin, xmax, grid_size)  \n",
    "    plt.figure(figsize=(12, 5))\n",
    "    plt.plot(grid, pl(grid, **kwargs), lw=5)\n",
    "    plt.grid(ls=':')\n",
    "    plt.xlabel('Значение', fontsize=18)\n",
    "    plt.ylabel('Плотность', fontsize=18)\n",
    "    plt.xlim((xmin, xmax))\n",
    "    plt.ylim((None, ymax))\n",
    "    title = 'Плотность {}'.format(distr_name)\n",
    "    plt.title(title.format(**kwargs), fontsize=20)\n",
    "    plt.show()\n",
    "    "
   ]
  },
  {
   "cell_type": "code",
   "execution_count": 22,
   "id": "0f494270-de72-4771-9d65-1dc55c7898eb",
   "metadata": {},
   "outputs": [
    {
     "name": "stdout",
     "output_type": "stream",
     "text": [
      "Введите левую координату0\n",
      "Введите правую координату5\n"
     ]
    },
    {
     "data": {
      "text/plain": [
       "array([3.68543888, 1.93525307, 4.878261  , ..., 0.53232022, 0.90534929,\n",
       "       0.33594377])"
      ]
     },
     "execution_count": 22,
     "metadata": {},
     "output_type": "execute_result"
    }
   ],
   "source": [
    "a = int(input(\"Введите левую координату\")) \n",
    "b = int(input(\"Введите правую координату\"))\n",
    "n = 1000000\n",
    "res = np.random.uniform(a, b, n)\n",
    "res"
   ]
  },
  {
   "cell_type": "code",
   "execution_count": 4,
   "id": "cf71137f-723d-482e-879a-3f64796b1d88",
   "metadata": {},
   "outputs": [
    {
     "data": {
      "image/png": "[encoded data removed]",
      "text/plain": [
       "<Figure size 432x288 with 1 Axes>"
      ]
     },
     "metadata": {
      "needs_background": "light"
     },
     "output_type": "display_data"
    }
   ],
   "source": [
    "plt.hist(res)\n",
    "plt.show()"
   ]
  },
  {
   "cell_type": "code",
   "execution_count": 23,
   "id": "e18b8e5b-8d9b-4b66-8dae-957d506122cc",
   "metadata": {},
   "outputs": [],
   "source": [
    "import random #метод обратных функций\n",
    "def random_values_generator(a, b, n): \n",
    "    res = []\n",
    "    for i in range(1, n):\n",
    "        value = (b - a) * random.random() + a\n",
    "        res.append(value)\n",
    "    return res"
   ]
  },
  {
   "cell_type": "code",
   "execution_count": 24,
   "id": "69b4485d-3a6e-4e03-9378-238bc822a80c",
   "metadata": {},
   "outputs": [
    {
     "data": {
      "image/png": "[encoded data removed]",
      "text/plain": [
       "<Figure size 432x288 with 1 Axes>"
      ]
     },
     "metadata": {
      "needs_background": "light"
     },
     "output_type": "display_data"
    }
   ],
   "source": [
    "n = 1000000\n",
    "\n",
    "res = random_values_generator(a, b, n)\n",
    "plt.hist(res)\n",
    "plt.show()"
   ]
  },
  {
   "cell_type": "code",
   "execution_count": 7,
   "id": "918ce42a-d25a-40f1-8076-30c1ee7cc282",
   "metadata": {},
   "outputs": [
    {
     "data": {
      "image/png": "[encoded data removed]",
      "text/plain": [
       "<Figure size 864x360 with 1 Axes>"
      ]
     },
     "metadata": {
      "needs_background": "light"
     },
     "output_type": "display_data"
    }
   ],
   "source": [
    "draw_pl(\n",
    "    pl=sps.uniform.pdf, xmin=a - 5, xmax=b + 5, ymax=1, grid_size=10000, \n",
    "    distr_name=r'$ 1/(b-a)$', loc=a, scale=b\n",
    ")"
   ]
  },
  {
   "cell_type": "code",
   "execution_count": 25,
   "id": "a0c251b7-f34e-425f-ae6d-4b1df1453d4e",
   "metadata": {},
   "outputs": [
    {
     "name": "stdout",
     "output_type": "stream",
     "text": [
      "2.5 2.0833333333333335 1.4433756729740645\n"
     ]
    }
   ],
   "source": [
    "import math\n",
    "MX = (a + b) / 2 # мат ожидание\n",
    "DX = math.pow((b - a),2)/ 12 # дисперсия\n",
    "Sigma = math.sqrt(DX) \n",
    "print(MX, DX, Sigma)"
   ]
  },
  {
   "cell_type": "code",
   "execution_count": 26,
   "id": "5c0f9981-ef10-45a2-a7ad-cbde60ac3383",
   "metadata": {},
   "outputs": [
    {
     "name": "stdout",
     "output_type": "stream",
     "text": [
      "2.497263276069744 2.0845873061446216 1.4438099965523932\n"
     ]
    }
   ],
   "source": [
    "mMark = 0.0 #несмещенная оценка матожидания \n",
    "dMark = 0.0 #несмещенная оценка дисперсии\n",
    "sigmaDM = 0\n",
    "for i in res:\n",
    "    mMark += i\n",
    "mMark /= n\n",
    "\n",
    "for i in res:\n",
    "    dMark = dMark + math.pow((i - mMark), 2)\n",
    "dMark = dMark / n\n",
    "\n",
    "sigmaDM = math.sqrt(dMark)\n",
    "\n",
    "print(mMark, dMark, sigmaDM)\n"
   ]
  },
  {
   "cell_type": "code",
   "execution_count": 27,
   "id": "d0475ba1-b8e6-48f9-8953-dd5ab733a1d1",
   "metadata": {},
   "outputs": [
    {
     "name": "stdout",
     "output_type": "stream",
     "text": [
      "-0.003488994434846404 4.998015546574335\n"
     ]
    }
   ],
   "source": [
    "# точечные оценки right, left\n",
    "aPoint = mMark - math.sqrt(3) * sigmaDM\n",
    "bPoint = mMark + math.sqrt(3) * sigmaDM\n",
    "print(aPoint, bPoint)\n"
   ]
  },
  {
   "cell_type": "code",
   "execution_count": 28,
   "id": "41af5ca7-1527-44cd-b508-129bdd70a44f",
   "metadata": {},
   "outputs": [
    {
     "name": "stdout",
     "output_type": "stream",
     "text": [
      "4.999996285056076, 5.000011007261707\n"
     ]
    }
   ],
   "source": [
    "# доверительный интервал right\n",
    "mx=res[0]\n",
    "for i in res:\n",
    "    if i > mx: \n",
    "        mx = i\n",
    "\n",
    "y = 0.90\n",
    "e1 = (1 - y) / 2\n",
    "e2 = e1\n",
    "\n",
    "print('%s, %s'%(mx / (math.pow((1 - e2),1 / n)), mx / (math.pow(e1, 1/n)  ) ))"
   ]
  },
  {
   "cell_type": "code",
   "execution_count": 29,
   "id": "8afbec5c-3d7a-4aef-ba73-143c55d84c59",
   "metadata": {},
   "outputs": [
    {
     "name": "stdout",
     "output_type": "stream",
     "text": [
      "0.19993983646333438\n"
     ]
    }
   ],
   "source": [
    "a = 0.95 #уровень значимости\n",
    "k = 9 \n",
    "#найдем предполагаемую плотность\n",
    "f = 1 / (bPoint - aPoint)\n",
    "print(f)\n",
    "\n",
    "\n",
    "\n",
    "    \n",
    "\n"
   ]
  },
  {
   "cell_type": "code",
   "execution_count": 30,
   "id": "357e2c3d-16cf-4c62-9cbd-130c5a4b4ff3",
   "metadata": {},
   "outputs": [
    {
     "name": "stdout",
     "output_type": "stream",
     "text": [
      "1002324.3072919542\n"
     ]
    }
   ],
   "source": [
    "from scipy import stats\n",
    "\n",
    "print(stats.chi2.ppf(0.95, n - 3))"
   ]
  },
  {
   "cell_type": "code",
   "execution_count": 31,
   "id": "8a82fa87-281f-441a-85ad-f651ab4e50d6",
   "metadata": {},
   "outputs": [],
   "source": [
    "res.sort()"
   ]
  },
  {
   "cell_type": "code",
   "execution_count": 32,
   "id": "4f18841c-f2e9-47f4-8837-e151e6e557ff",
   "metadata": {},
   "outputs": [
    {
     "name": "stdout",
     "output_type": "stream",
     "text": [
      "True\n"
     ]
    }
   ],
   "source": [
    "# прооверка гипотезы (нахождение хи-квадрат эмпирического и теор)\n",
    "xhi = 0\n",
    "sm = 0\n",
    "for i, val in enumerate(res):\n",
    "    if i + 1 >= len(res): break\n",
    "    n_i = n * f * (res[i + 1] - res[i])\n",
    "    sm += n_i\n",
    "    xhi = xhi + (n_i - round(n_i)) * (n_i - round(n_i)) / n_i\n",
    "#print(xhi, sm/n)\n",
    "print(xhi < stats.chi2.ppf(0.95, n - 3))"
   ]
  },
  {
   "cell_type": "code",
   "execution_count": null,
   "id": "cb46c4c3",
   "metadata": {},
   "outputs": [],
   "source": []
  }
 ],
 "metadata": {
  "kernelspec": {
   "display_name": "Python 3 (ipykernel)",
   "language": "python",
   "name": "python3"
  },
  "language_info": {
   "codemirror_mode": {
    "name": "ipython",
    "version": 3
   },
   "file_extension": ".py",
   "mimetype": "text/x-python",
   "name": "python",
   "nbconvert_exporter": "python",
   "pygments_lexer": "ipython3",
   "version": "3.9.12"
  }
 },
 "nbformat": 4,
 "nbformat_minor": 5
}
